{
 "cells": [
  {
   "cell_type": "code",
   "execution_count": 2,
   "metadata": {
    "collapsed": false
   },
   "outputs": [],
   "source": [
    "import numpy as np\n",
    "import random \n",
    "import copy\n",
    "\n",
    "goal_state = [[0, 1, 2], [3, 4, 5], [6, 7, 8]]"
   ]
  },
  {
   "cell_type": "code",
   "execution_count": 100,
   "metadata": {
    "collapsed": false
   },
   "outputs": [],
   "source": [
    "class Puzzle():\n",
    "    \n",
    "    def __init__(self):\n",
    "        self.goal_state = [[0, 1, 2], [3, 4, 5], [6, 7, 8]]\n",
    "        \n",
    "    def goal_check(self):\n",
    "        return self.state == self.goal_state\n",
    "    \n",
    "    def set_goal_state(self):\n",
    "        self.state = copy.deepcopy(self.goal_state)\n",
    "    \n",
    "    # List of available moves depending on location of blank\n",
    "    def get_available_actions(self, temp_state):\n",
    "        for row_index, row in enumerate(temp_state):\n",
    "            for col_index, element in enumerate(row):\n",
    "                if element == 0:\n",
    "                    blank_row = row_index\n",
    "                    blank_column = col_index\n",
    "        \n",
    "        # Set available moves to empty list\n",
    "        available_actions = []\n",
    "        \n",
    "        if blank_row == 0:\n",
    "            available_actions.append(\"down\")\n",
    "        elif blank_row == 1:\n",
    "            available_actions.extend((\"up\", \"down\"))\n",
    "        elif blank_row == 2:\n",
    "            available_actions.append(\"up\")\n",
    "            \n",
    "        if blank_column == 0:\n",
    "            available_actions.append(\"right\")\n",
    "        elif blank_column == 1:\n",
    "            available_actions.extend((\"left\", \"right\"))\n",
    "        elif blank_column == 2:\n",
    "            available_actions.append(\"left\")\n",
    "            \n",
    "        return available_actions, blank_row, blank_column\n",
    "    \n",
    "    def set_state(self, state_string):\n",
    "        for row_index, row in enumerate(state_string.split(\" \")):\n",
    "            for col_index, element in enumerate(row):\n",
    "                if element == \"b\":\n",
    "                    self.state[row_index][col_index] = 0\n",
    "                else:\n",
    "                    self.state[row_index][col_index] = int(element)\n",
    "        \n",
    "    def randomize_state(self, n):\n",
    "        self.state = copy.deepcopy(self.goal_state)\n",
    "        \n",
    "        for i in range(n):\n",
    "            available_actions, _, _ = self.get_available_actions(self.state)\n",
    "            random_move = random.choice(available_actions)\n",
    "            self.state = self.move(random_move)\n",
    "            \n",
    "    def move(self, action):\n",
    "        new_state = copy.deepcopy(self.state)\n",
    "        available_actions, blank_row, blank_column = self.get_available_actions(self.state)\n",
    "\n",
    "        if action not in available_actions:\n",
    "            print(\"Error, move not allowed\")\n",
    "            \n",
    "        else:\n",
    "            if action == \"down\":\n",
    "                tile_to_move = self.state[blank_row + 1][blank_column]\n",
    "                new_state[blank_row][blank_column] = tile_to_move\n",
    "                new_state[blank_row + 1][blank_column] = 0\n",
    "            elif action == \"up\":\n",
    "                tile_to_move = self.state[blank_row - 1][blank_column]\n",
    "                new_state[blank_row][blank_column] = tile_to_move\n",
    "                new_state[blank_row - 1][blank_column] = 0\n",
    "            elif action == \"right\":\n",
    "                tile_to_move = self.state[blank_row][blank_column + 1]\n",
    "                new_state[blank_row][blank_column] = tile_to_move\n",
    "                new_state[blank_row][blank_column + 1] = 0\n",
    "            elif action == \"left\":\n",
    "                tile_to_move = self.state[blank_row][blank_column - 1]\n",
    "                new_state[blank_row][blank_column] = tile_to_move\n",
    "                new_state[blank_row][blank_column -1] = 0\n",
    "                \n",
    "        return new_state\n",
    "            \n",
    "    def display_state(self):\n",
    "        str_state = []\n",
    "        for row in self.state:\n",
    "            for element in row:\n",
    "                if element == 0:\n",
    "                    str_state.append(\"b\")\n",
    "                else:\n",
    "                    str_state.append(str(element))\n",
    "                    \n",
    "        print(\"\".join(str_state[0:3]), \"\".join(str_state[3:6]), \"\".join(str_state[6:9]))\n",
    "        \n",
    "    def calculate_h2_heuristic(self, potential_state):\n",
    "        state_dict = {}\n",
    "        goal_dict = {}\n",
    "        heuristic = 0\n",
    "        \n",
    "        for row_index, row in enumerate(potential_state):\n",
    "            for col_index, element in enumerate(row):\n",
    "                state_dict[element] = (row_index, col_index)\n",
    "        \n",
    "        for row_index, row in enumerate(self.goal_state):\n",
    "            for col_index, element in enumerate(row):\n",
    "                goal_dict[element] = (row_index, col_index)\n",
    "                \n",
    "        for tile, position in state_dict.items():\n",
    "            if tile == 0:\n",
    "                pass\n",
    "            else:\n",
    "                goal_position = goal_dict[tile]\n",
    "                heuristic += (abs(position[0] - goal_position[0]) + abs(position[1] - goal_position[1]))\n",
    "        \n",
    "        return heuristic\n",
    "    \n",
    "    def calculate_total_cost(self, node_depth, potential_state):\n",
    "        return node_depth + self.calculate_h2_heuristic(potential_state)\n",
    "    \n",
    "    def a_star(self, max_nodes):\n",
    "        \n",
    "        self.num_nodes_considered = 0\n",
    "        self.num_nodes_expanded = 0\n",
    "\n",
    "        self.frontier_nodes = {0: {\"state\": self.state, \"parent\": \"root\", \"action\": \"none\",\n",
    "                                   \"total_cost\": self.calculate_total_cost(0, self.state), \"depth\": 0}\n",
    "                               }\n",
    "        \n",
    "        self.expanded_nodes = {}\n",
    "        \n",
    "        # Stop when maximum nodes have been considered\n",
    "        while self.num_nodes_considered < max_nodes:\n",
    "            current_lowest_cost = float(\"inf\")\n",
    "            \n",
    "            # Check if current state is goal state\n",
    "            if self.goal_check():\n",
    "                if self.expanded_nodes:\n",
    "                    for node_num, node in self.expanded_nodes.items():\n",
    "                        if node[\"state\"] == self.goal_state:\n",
    "                            final_node = self.expanded_nodes[node_num]\n",
    "                    solution_path = self.find_path(final_node)\n",
    "                else:\n",
    "                    solution_path = [self.goal_state]\n",
    "                    \n",
    "                print(\"Solution found!\")\n",
    "                print(\"Solution Length: \", len(solution_path))\n",
    "                print(\"Solution Path\", solution_path[::-1])\n",
    "                break\n",
    "            \n",
    "            else:\n",
    "                available_actions, _, _ = self.get_available_actions(self.state)\n",
    "                \n",
    "                # Get current depth of state\n",
    "                if self.expanded_nodes:\n",
    "                    for node_num, node in self.expanded_nodes.items():\n",
    "                        if node[\"state\"] == self.state:\n",
    "                            current_depth = node[\"depth\"]\n",
    "                else:\n",
    "                    current_depth = 0\n",
    "                        \n",
    "                # Iterate through possible actions \n",
    "                for action in available_actions:\n",
    "                    repeat = False\n",
    "                    \n",
    "                    if self.num_nodes_considered >= max_nodes:\n",
    "                        print(\"No Solution Found\")\n",
    "                        break\n",
    "                    \n",
    "                    # Find the new state corresponding to action and calculate total cost\n",
    "                    new_state = self.move(action)\n",
    "                    \n",
    "                    for node_num, node in self.expanded_nodes.items():\n",
    "                        if node[\"state\"] == new_state:\n",
    "                            repeat = True\n",
    "                    \n",
    "                    frontier_nodes_to_delete = []\n",
    "                    for frontier_node_num, frontier_node in self.frontier_nodes.items():\n",
    "                        if frontier_node[\"state\"] == new_state:\n",
    "                            frontier_nodes_to_delete.append(frontier_node_num)\n",
    "                            \n",
    "                    for node_num in frontier_nodes_to_delete:\n",
    "                        del self.frontier_nodes[node_num]\n",
    "                            \n",
    "                    if repeat:\n",
    "                        continue\n",
    "                    else:\n",
    "                        # Each action represents another node considered\n",
    "                        self.num_nodes_considered += 1\n",
    "                        # Total cost is path length (number of steps) + heuristic\n",
    "                        new_state_cost = self.calculate_total_cost(current_depth + 1, new_state)\n",
    "\n",
    "                        # Record each node as a dictionary within the self.nodes dictionary\n",
    "                        # Each key in self.nodes is the number of the node considered and value is a dictionary\n",
    "                        self.frontier_nodes[self.num_nodes_considered] = {\"state\": new_state, \"parent\": self.state, \n",
    "                                                             \"action\": action, \"total_cost\": new_state_cost,\n",
    "                                                                \"depth\": current_depth + 1}\n",
    "                \n",
    "                # Iterate through all frontier nodes and find the one with the lowest cost\n",
    "                for node_num, node in self.frontier_nodes.items():\n",
    "                    node_total_cost = node[\"total_cost\"]\n",
    "                    if node_total_cost < current_lowest_cost:\n",
    "                        best_state = node[\"state\"]\n",
    "                        current_lowest_cost = node_total_cost\n",
    "                        best_node_num = node_num\n",
    "      \n",
    "                # Expand the node with the lowest cost\n",
    "                self.state = best_state\n",
    "                self.num_nodes_expanded += 1\n",
    "                               \n",
    "                # Remove the expanded node from the nodes to consider\n",
    "                self.expanded_nodes[self.num_nodes_expanded] = (self.frontier_nodes.pop(best_node_num))\n",
    "            \n",
    "    def find_path(self, node, path=[]):\n",
    "        if node[\"parent\"] == \"root\":\n",
    "            return path\n",
    "        else:\n",
    "            parent_state = node[\"parent\"]\n",
    "            path.append(parent_state)\n",
    "            for node_num, expanded_node in self.expanded_nodes.items():\n",
    "                if expanded_node[\"state\"] == parent_state:\n",
    "                    return self.find_path(expanded_node, path)"
   ]
  },
  {
   "cell_type": "code",
   "execution_count": 101,
   "metadata": {
    "collapsed": false
   },
   "outputs": [],
   "source": [
    "puzzle_one = Puzzle()"
   ]
  },
  {
   "cell_type": "code",
   "execution_count": 107,
   "metadata": {
    "collapsed": true
   },
   "outputs": [],
   "source": [
    "puzzle_one.randomize_state(100)"
   ]
  },
  {
   "cell_type": "code",
   "execution_count": 103,
   "metadata": {
    "collapsed": false
   },
   "outputs": [],
   "source": [
    "puzzle_one.set_goal_state()"
   ]
  },
  {
   "cell_type": "code",
   "execution_count": 104,
   "metadata": {
    "collapsed": false
   },
   "outputs": [
    {
     "data": {
      "text/plain": [
       "0"
      ]
     },
     "execution_count": 104,
     "metadata": {},
     "output_type": "execute_result"
    }
   ],
   "source": [
    "puzzle_one.calculate_h2_heuristic(puzzle_one.state)"
   ]
  },
  {
   "cell_type": "code",
   "execution_count": 108,
   "metadata": {
    "collapsed": false
   },
   "outputs": [
    {
     "name": "stdout",
     "output_type": "stream",
     "text": [
      "Solution found!\n",
      "Solution Length:  18\n",
      "Solution Path [[[4, 7, 2], [1, 3, 5], [8, 6, 0]], [[4, 7, 2], [1, 3, 0], [8, 6, 5]], [[4, 7, 2], [1, 0, 3], [8, 6, 5]], [[4, 0, 2], [1, 7, 3], [8, 6, 5]], [[0, 4, 2], [1, 7, 3], [8, 6, 5]], [[1, 4, 2], [0, 7, 3], [8, 6, 5]], [[1, 4, 2], [7, 0, 3], [8, 6, 5]], [[1, 4, 2], [7, 6, 3], [8, 0, 5]], [[1, 4, 2], [7, 6, 3], [0, 8, 5]], [[1, 4, 2], [0, 6, 3], [7, 8, 5]], [[1, 4, 2], [6, 0, 3], [7, 8, 5]], [[1, 4, 2], [6, 3, 0], [7, 8, 5]], [[1, 4, 2], [6, 3, 5], [7, 8, 0]], [[1, 4, 2], [6, 3, 5], [7, 0, 8]], [[1, 4, 2], [6, 3, 5], [0, 7, 8]], [[1, 4, 2], [0, 3, 5], [6, 7, 8]], [[1, 4, 2], [3, 0, 5], [6, 7, 8]], [[1, 0, 2], [3, 4, 5], [6, 7, 8]]]\n"
     ]
    }
   ],
   "source": [
    "puzzle_one.a_star(10000)"
   ]
  },
  {
   "cell_type": "code",
   "execution_count": null,
   "metadata": {
    "collapsed": false
   },
   "outputs": [],
   "source": [
    "puzzle_one.expanded_nodes"
   ]
  },
  {
   "cell_type": "code",
   "execution_count": null,
   "metadata": {
    "collapsed": false,
    "scrolled": false
   },
   "outputs": [],
   "source": [
    "for i in puzzle_one.frontier_nodes:\n",
    "    count = 0\n",
    "    test_state = puzzle_one.frontier_nodes[i][\"state\"]\n",
    "    for num, node in puzzle_one.frontier_nodes.items():\n",
    "        \n",
    "        if node[\"state\"] == test_state:\n",
    "            count += 1\n",
    "    if count > 1:\n",
    "        print(\"failure\")"
   ]
  },
  {
   "cell_type": "code",
   "execution_count": null,
   "metadata": {
    "collapsed": false
   },
   "outputs": [],
   "source": [
    "len(puzzle_one.expanded_nodes)"
   ]
  },
  {
   "cell_type": "code",
   "execution_count": null,
   "metadata": {
    "collapsed": false
   },
   "outputs": [],
   "source": [
    "len(puzzle_one.frontier_nodes)"
   ]
  },
  {
   "cell_type": "code",
   "execution_count": null,
   "metadata": {
    "collapsed": false
   },
   "outputs": [],
   "source": [
    "ex = [9, 8, 5]\n",
    "ex[::-1]"
   ]
  },
  {
   "cell_type": "code",
   "execution_count": null,
   "metadata": {
    "collapsed": true
   },
   "outputs": [],
   "source": []
  }
 ],
 "metadata": {
  "kernelspec": {
   "display_name": "Python 3",
   "language": "python",
   "name": "python3"
  },
  "language_info": {
   "codemirror_mode": {
    "name": "ipython",
    "version": 3
   },
   "file_extension": ".py",
   "mimetype": "text/x-python",
   "name": "python",
   "nbconvert_exporter": "python",
   "pygments_lexer": "ipython3",
   "version": "3.6.0"
  }
 },
 "nbformat": 4,
 "nbformat_minor": 2
}
